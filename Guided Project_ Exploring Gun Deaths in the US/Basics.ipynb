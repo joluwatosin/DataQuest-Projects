{
 "cells": [
  {
   "cell_type": "markdown",
   "metadata": {},
   "source": [
    "## Project Details\n",
    "# Overview\n",
    "In this project, I'll worked with Jupyter notebook, analyzing data on gun deaths in the US and the rate of gun deaths per 100000 people of each race. The datasets I used comes from FiveThirtyEight and is stored as guns.csv and census.csv.\n",
    "It contains information on gun deaths in the US from 2012 to 2014. Each row in the dataset represents a single fatality. The columns contain demographic and other information about the victim.\n",
    "\n",
    "\n",
    "# Column Meaning(guns.csv)\n",
    "Each row contains information about the fatality, and the victim. Here's an explanation of each column:\n",
    "\n",
    "year -- the year in which the fatality occurred.\n",
    "\n",
    "month -- the month in which the fatality occurred.\n",
    "\n",
    "intent -- the intent of the perpetrator of the crime. This can be Suicide, Accidental, NA, Homicide, or Undetermined.\n",
    "\n",
    "police -- whether a police officer was involved with the shooting. Either 0 (false) or 1 (true).\n",
    "\n",
    "sex -- the gender of the victim. Either M or F.\n",
    "\n",
    "age -- the age of the victim.\n",
    "\n",
    "race -- the race of the victim. Either Asian/Pacific Islander, Native American/Native Alaskan, Black, Hispanic, or White.\n",
    "\n",
    "hispanic -- a code indicating the Hispanic origin of the victim.\n",
    "place -- where the shooting occurred. Has several categories, which you're encouraged to explore on your own.\n",
    "\n",
    "education -- educational status of the victim. Can be one of the following:\n",
    "1 -- Less than High School\n",
    "2 -- Graduated from High School or equivalent\n",
    "3 -- Some College\n",
    "4 -- At least graduated from College\n",
    "5 -- Not available\n",
    "\n",
    "\n",
    "# Column Meaning(census.csv)\n",
    "\n",
    "\n",
    "# Code Explanation\n",
    "\n",
    "Modules imported:\n",
    "\n",
    "csv -- for reading in files\n",
    "\n",
    "datetime -- for working with time(year, month, day)\n",
    "\n",
    "I first read in the file into a list(data) using the csv module and then seperated the header from the original list. I then looked at the number of gun deaths under the the following categories:\n",
    "\n",
    "Year -- In this i first moved all the elements in the year column into a new list and then created a dictionary(year_counts)that served as a counter for the number of deaths that occured each year.\n",
    "\n",
    "Year and Month -- In this I created a dates list that stored the month and year of each role  using the object of the datetime.datetime class from the datetime module setting the 'day' variable to a fixed value of 1. Then created a dictionary(date_counts)that served as a counter for the number of deaths that occured each year and month.\n",
    "\n",
    "Sex -- In this i first moved all the elements in the sex column into a new list and then created a dictionary(sex_count)that served as a counter for the number of deaths that occured for each sex(male or female).\n",
    "\n",
    "Race -- In this i first moved all the elements in the race column into a new list and then created a dictionary(race_count)that served as a counter for the number of deaths that occured across each racial group."
   ]
  },
  {
   "cell_type": "code",
   "execution_count": 53,
   "metadata": {
    "collapsed": false,
    "scrolled": true
   },
   "outputs": [
    {
     "name": "stdout",
     "output_type": "stream",
     "text": [
      "{'2012': 33563, '2014': 33599, '2013': 33636} \n",
      "\n",
      "{'F': 14449, 'M': 86349} \n",
      "\n",
      "{'Black': 23296, 'White': 66237, 'Hispanic': 9022, 'Asian/Pacific Islander': 1326, 'Native American/Native Alaskan': 917} \n",
      "\n",
      "{datetime.datetime(2012, 9, 1, 0, 0): 2852, datetime.datetime(2014, 12, 1, 0, 0): 2857, datetime.datetime(2012, 7, 1, 0, 0): 3026, datetime.datetime(2014, 11, 1, 0, 0): 2756, datetime.datetime(2014, 2, 1, 0, 0): 2361, datetime.datetime(2014, 1, 1, 0, 0): 2651, datetime.datetime(2012, 5, 1, 0, 0): 2999, datetime.datetime(2012, 10, 1, 0, 0): 2733, datetime.datetime(2014, 8, 1, 0, 0): 2970, datetime.datetime(2013, 9, 1, 0, 0): 2742, datetime.datetime(2014, 4, 1, 0, 0): 2862, datetime.datetime(2013, 11, 1, 0, 0): 2758, datetime.datetime(2013, 1, 1, 0, 0): 2864, datetime.datetime(2012, 2, 1, 0, 0): 2357, datetime.datetime(2013, 5, 1, 0, 0): 2806, datetime.datetime(2014, 5, 1, 0, 0): 2864, datetime.datetime(2013, 4, 1, 0, 0): 2798, datetime.datetime(2013, 6, 1, 0, 0): 2920, datetime.datetime(2013, 8, 1, 0, 0): 2859, datetime.datetime(2014, 6, 1, 0, 0): 2931, datetime.datetime(2013, 12, 1, 0, 0): 2765, datetime.datetime(2014, 7, 1, 0, 0): 2884, datetime.datetime(2014, 9, 1, 0, 0): 2914, datetime.datetime(2012, 12, 1, 0, 0): 2791, datetime.datetime(2012, 1, 1, 0, 0): 2758, datetime.datetime(2012, 3, 1, 0, 0): 2743, datetime.datetime(2014, 10, 1, 0, 0): 2865, datetime.datetime(2012, 4, 1, 0, 0): 2795, datetime.datetime(2012, 11, 1, 0, 0): 2729, datetime.datetime(2013, 7, 1, 0, 0): 3079, datetime.datetime(2012, 8, 1, 0, 0): 2954, datetime.datetime(2013, 10, 1, 0, 0): 2808, datetime.datetime(2013, 2, 1, 0, 0): 2375, datetime.datetime(2012, 6, 1, 0, 0): 2826, datetime.datetime(2014, 3, 1, 0, 0): 2684, datetime.datetime(2013, 3, 1, 0, 0): 2862}\n"
     ]
    }
   ],
   "source": [
    "import csv\n",
    "import datetime\n",
    "\n",
    "f = open('guns.csv','r')\n",
    "data = list(csv.reader(f))\n",
    "headers = data[0]\n",
    "data = data[1:]\n",
    "\n",
    "#This looks at the gun death change using the 'year' feature\n",
    "years = [elem[1] for elem in data]\n",
    "year_counts = {}\n",
    "#This looks at the gun death change using the 'sex' feature\n",
    "sex = [elem[5] for elem in data]\n",
    "sex_count = {}\n",
    "#This looks at the gun death change using the 'race' feature\n",
    "race = [elem[7] for elem in data]\n",
    "race_count = {}\n",
    "\n",
    "\n",
    "#This function takes in a column_list and a dictionary and returns the number of deaths\n",
    "def column_count(lists,dictionary):\n",
    "    for elem in lists:\n",
    "        if elem in dictionary:\n",
    "            dictionary[elem] += 1\n",
    "        else:\n",
    "            dictionary[elem] = 1\n",
    "    return dictionary\n",
    "\n",
    "\n",
    "death_by_year = column_count(years, year_counts)\n",
    "death_by_sex = column_count(sex, sex_count)\n",
    "death_by_race = column_count(race, race_count)\n",
    "\n",
    "       \n",
    "#This looks at the gun death change using both the 'month' and 'year'\n",
    "#features\n",
    "dates = [datetime.datetime(year= int(elem[1]), month= int(elem[2]), day= 1) for elem in data]\n",
    "date_counts = {}\n",
    "\n",
    "for elem in dates:\n",
    "    if elem in date_counts:\n",
    "        date_counts[elem] += 1\n",
    "    else:\n",
    "        date_counts[elem] =1\n",
    "\n",
    "#checking how gun deaths changed across months and years\n",
    "print(death_by_year, '\\n')\n",
    "print(death_by_sex, '\\n')\n",
    "print(death_by_race, '\\n')\n",
    "print(date_counts)"
   ]
  },
  {
   "cell_type": "markdown",
   "metadata": {},
   "source": [
    "## Findings So far\n",
    "There was a higher rate of males affected by gun dates compared to females. \n",
    "\n",
    "The number of total deaths dopped slightly in 2014.\n",
    "\n",
    "Whites have the highest total deaths by guns:\n",
    "\n",
    "-This does not take into account the ratio of race to population \n",
    "\n"
   ]
  },
  {
   "cell_type": "markdown",
   "metadata": {},
   "source": [
    "# Computing Rates Of Gun Deaths Per Race Per 100,000"
   ]
  },
  {
   "cell_type": "code",
   "execution_count": 54,
   "metadata": {
    "collapsed": false
   },
   "outputs": [
    {
     "name": "stdout",
     "output_type": "stream",
     "text": [
      "{'White': 33.56849303419181, 'Hispanic': 20.220491210910907, 'Black': 57.8773477735196, 'Native American/Native Alaskan': 24.521955573811088, 'Asian/Pacific Islander': 8.374309664161762}\n"
     ]
    }
   ],
   "source": [
    "import csv\n",
    "h = open('census.csv','r')\n",
    "census = list(csv.reader(h))\n",
    "census_header = census[0]\n",
    "census = census[1:]\n",
    "\n",
    "mapping = {}\n",
    "race_per_hundredk = {}\n",
    "\n",
    "white_pop = int(census[0][10])\n",
    "Black_pop = int(census[0][12])\n",
    "Hispanic_pop = int(census[0][11])\n",
    "Asian = int(census[0][14])\n",
    "Island = int(census[0][15])\n",
    "Asian_Islander_pop = Asian + Island\n",
    "Native_American_Alaskan_pop = int(census[0][13])\n",
    "\n",
    "census_update = [Black_pop, white_pop, Hispanic_pop, Asian_Islander_pop, Native_American_Alaskan_pop]\n",
    "\n",
    "#This maps the population to the race\n",
    "index = 0\n",
    "for key,value in race_count.items():\n",
    "        if key not in mapping:\n",
    "            mapping[key] = census_update[index]\n",
    "        index += 1\n",
    "\n",
    "#This calculates the death per 100,000       \n",
    "for key, value in death_by_race.items():\n",
    "    if key not in race_per_hundredk:\n",
    "        race_per_hundredk[key] = (race_count[key]/mapping[key])*100000\n",
    "\n",
    "print(race_per_hundredk)\n"
   ]
  },
  {
   "cell_type": "markdown",
   "metadata": {
    "collapsed": true
   },
   "source": [
    "# Rates Of Gun Deaths Per Race Per 100,000 Filtered By Intent"
   ]
  },
  {
   "cell_type": "code",
   "execution_count": 47,
   "metadata": {
    "collapsed": false,
    "scrolled": true
   },
   "outputs": [
    {
     "name": "stdout",
     "output_type": "stream",
     "text": [
      "{'Black': 19510, 'Asian/Pacific Islander': 559, 'Hispanic': 5634, 'White': 9147, 'Native American/Native Alaskan': 326}\n",
      "{'Asian/Pacific Islander': 3.530346230970155, 'Hispanic': 12.627161104219914, 'Black': 48.471284987180944, 'Native American/Native Alaskan': 8.717729026240365, 'White': 4.6356417981453335}\n"
     ]
    }
   ],
   "source": [
    "#filtering our results, and restricting them by Homicide intent\n",
    "\n",
    "intents = [elem[3] for elem in data]\n",
    "homicide_race_counts = {}\n",
    "homicide_race_counts_per_hundred = {}\n",
    "\n",
    "#This \n",
    "for i,value in enumerate(race):\n",
    "    if intent[i] == 'Homicide':\n",
    "        if value in homicide_race_counts:\n",
    "            homicide_race_counts[value] += 1\n",
    "        else:\n",
    "            homicide_race_counts[value] = 1\n",
    "            \n",
    "#This calculates the death per 100,000       \n",
    "for key, value in homicide_race_counts.items():\n",
    "    if key not in homicide_race_counts_per_hundred:\n",
    "        homicide_race_counts_per_hundred[key] = (homicide_race_counts[key]/mapping[key])*100000\n",
    "\n",
    "\n",
    "print(homicide_race_counts)\n",
    "print(homicide_race_counts_per_hundred)"
   ]
  },
  {
   "cell_type": "markdown",
   "metadata": {},
   "source": [
    "## Findings so far\n",
    "Blacks have the highest homicide death per race for the entire USA, while the Asians and the Pacific islanders have the lowest.   "
   ]
  },
  {
   "cell_type": "code",
   "execution_count": null,
   "metadata": {
    "collapsed": true
   },
   "outputs": [],
   "source": []
  }
 ],
 "metadata": {
  "kernelspec": {
   "display_name": "Python 3",
   "language": "python",
   "name": "python3"
  },
  "language_info": {
   "codemirror_mode": {
    "name": "ipython",
    "version": 3
   },
   "file_extension": ".py",
   "mimetype": "text/x-python",
   "name": "python",
   "nbconvert_exporter": "python",
   "pygments_lexer": "ipython3",
   "version": "3.4.3"
  }
 },
 "nbformat": 4,
 "nbformat_minor": 0
}
