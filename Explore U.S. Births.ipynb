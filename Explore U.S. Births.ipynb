{
 "cells": [
  {
   "cell_type": "code",
   "execution_count": 14,
   "metadata": {
    "collapsed": false
   },
   "outputs": [
    {
     "name": "stdout",
     "output_type": "stream",
     "text": [
      "[[1994, 1, 1, 6, 8096], [1994, 1, 1, 6, 8096], [1994, 1, 2, 7, 7772], [1994, 1, 1, 6, 8096], [1994, 1, 2, 7, 7772], [1994, 1, 3, 1, 10142], [1994, 1, 1, 6, 8096], [1994, 1, 2, 7, 7772], [1994, 1, 3, 1, 10142], [1994, 1, 4, 2, 11248]]\n"
     ]
    }
   ],
   "source": [
    "f = open('US_births_1994-2003_CDC_NCHS.csv','r')\n",
    "d = f.read()\n",
    "data = d.split('\\n')\n",
    "data_no_header = data[1:len(data)]\n",
    "final_data = []\n",
    "new_data = []\n",
    "for elem in data_no_header:\n",
    "    holder = elem.split(',')\n",
    "    new_data.append(holder)\n",
    "    for elem in new_data:\n",
    "        Value_0 = int(elem[0])\n",
    "        Value_1 = int(elem[1])\n",
    "        Value_2 = int(elem[2])\n",
    "        Value_3 = int(elem[3])\n",
    "        Value_4 = int(elem[4])\n",
    "        new_data_1 = [Value_0,Value_1,Value_2,Value_3,Value_4]\n",
    "        final_data.append(new_data_1)\n",
    "print(final_data[0:10])"
   ]
  },
  {
   "cell_type": "code",
   "execution_count": 4,
   "metadata": {
    "collapsed": false
   },
   "outputs": [
    {
     "name": "stdout",
     "output_type": "stream",
     "text": [
      "Yearly totals: \n",
      " {2000: 4058814, 2001: 4025933, 2002: 4021726, 2003: 4089950, 1994: 3952767, 1995: 3899589, 1996: 3891494, 1997: 3880894, 1998: 3941553, 1999: 3959417}\n",
      "Monthly totals: \n",
      " {1: 3232517, 2: 3018140, 3: 3322069, 4: 3185314, 5: 3350907, 6: 3296530, 7: 3498783, 8: 3525858, 9: 3439698, 10: 3378814, 11: 3171647, 12: 3301860}\n",
      "Day-of-month totals: \n",
      " {1: 1276557, 2: 1288739, 3: 1304499, 4: 1288154, 5: 1299953, 6: 1304474, 7: 1310459, 8: 1312297, 9: 1303292, 10: 1320764, 11: 1314361, 12: 1318437, 13: 1277684, 14: 1320153, 15: 1319171, 16: 1315192, 17: 1324953, 18: 1326855, 19: 1318727, 20: 1324821, 21: 1322897, 22: 1317381, 23: 1293290, 24: 1288083, 25: 1272116, 26: 1284796, 27: 1294395, 28: 1307685, 29: 1223161, 30: 1202095, 31: 746696}\n",
      "Day-of-week totals: \n",
      " {1: 5789166, 2: 6446196, 3: 6322855, 4: 6288429, 5: 6233657, 6: 4562111, 7: 4079723}\n"
     ]
    }
   ],
   "source": [
    "#This function takes in a file and then:\n",
    "#splits it,\n",
    "#converts all the elemets into integers\n",
    "def read_csv(file_name):\n",
    "    f = open(file_name,'r')\n",
    "    d = f.read()\n",
    "    data = d.split('\\n')\n",
    "    #removes the header\n",
    "    string_list = data[1:len(data)]\n",
    "    final_list = []\n",
    "    string_fields = []\n",
    "    \n",
    "    for elem in string_list:\n",
    "        holder = elem.split(',')\n",
    "        string_fields.append(holder)\n",
    "        for elem in string_fields:\n",
    "            Value_0 = int(elem[0])\n",
    "            Value_1 = int(elem[1])\n",
    "            Value_2 = int(elem[2])\n",
    "            Value_3 = int(elem[3])\n",
    "            Value_4 = int(elem[4])\n",
    "            int_fields = [Value_0,Value_1,Value_2,Value_3,Value_4]\n",
    "        final_list.append(int_fields)\n",
    "    return final_list\n",
    "\n",
    "#Function that Returns the monthly totals for the dataset\n",
    "#takes in a list of list\n",
    "#One approach to listing the months and birth number\n",
    "def month_birth(list_of_list):\n",
    "    births_per_month ={}\n",
    "    for elem in list_of_list:\n",
    "        if elem[1] in births_per_month:\n",
    "            births_per_month [elem[1]] += elem[4]\n",
    "        else:\n",
    "            births_per_month [elem[1]] = elem[4]\n",
    "    return births_per_month\n",
    "\n",
    "\n",
    "#Function that Returns the monthly totals for the dataset\n",
    "#Takes in a list of list\n",
    "#Another approach to listing the months and birth number\n",
    "def month_births(list_of_lists):\n",
    "    births_per_month ={}\n",
    "    #Extracting the necessary columns (Month and Birth number)\n",
    "    for elem in list_of_lists:\n",
    "        month = elem[1]\n",
    "        births = elem[4]\n",
    "        if month in births_per_month:\n",
    "            births_per_month[month] += births\n",
    "        else:\n",
    "            births_per_month[month] = births          \n",
    "    return births_per_month\n",
    "\n",
    "\n",
    "#Function that Returns the day-of-week totals for the dataset \n",
    "def dow_births(list_of_list):\n",
    "    #creating a dictionary \n",
    "    day_of_week = {}\n",
    "    for elem in list_of_list:\n",
    "        day = elem[3]\n",
    "        briths = elem[4]\n",
    "        if day in day_of_week:\n",
    "            day_of_week[day] += briths\n",
    "        else:\n",
    "            day_of_week[day] = briths\n",
    "    return day_of_week\n",
    "\n",
    "\n",
    "#This is a more genral function that takes in a column and \n",
    "#specifies total births in relation to that column\n",
    "def calc_counts (data, column):\n",
    "    #create a dictionary\n",
    "    total_births = {}\n",
    "    for elem in data:\n",
    "        parameter = elem[column]\n",
    "        births = elem[4]\n",
    "        if parameter in total_births:\n",
    "            total_births[parameter] += births\n",
    "        else:\n",
    "            total_births[parameter] = births\n",
    "    return total_births\n",
    "\n",
    "\n",
    "\n",
    "cdc_list = read_csv('US_births_1994-2003_CDC_NCHS.csv')\n",
    "#Returns the yearly totals for the dataset\n",
    "cdc_year_births = calc_counts(cdc_list,0)\n",
    "#Returns the monthly totals for the dataset\n",
    "cdc_month_births = calc_counts(cdc_list,1)\n",
    "#Returns the day-of-month totals for the dataset\n",
    "cdc_dom_births = calc_counts(cdc_list,2)\n",
    "#Returns the day-of-week totals for the dataset\n",
    "cdc_dow_births = calc_counts(cdc_list,3)\n",
    "\n",
    "print('Yearly totals: \\n',cdc_year_births)\n",
    "print('Monthly totals: \\n',cdc_month_births)\n",
    "print('Day-of-month totals: \\n',cdc_dom_births)\n",
    "print('Day-of-week totals: \\n',cdc_dow_births)"
   ]
  },
  {
   "cell_type": "code",
   "execution_count": 10,
   "metadata": {
    "collapsed": false
   },
   "outputs": [
    {
     "name": "stdout",
     "output_type": "stream",
     "text": [
      "3525858\n"
     ]
    }
   ],
   "source": [
    "#Function that can calculate the min and max values \n",
    "#for any dictionary that's passed in\n",
    "def min_max(dic):\n",
    "    max_holder = 0\n",
    "    min_holder = 0\n",
    "    length = len(dic)\n",
    "    for elem in range(1,length):\n",
    "        if dic[elem] > max_holder:\n",
    "            max_holder = dic[elem] \n",
    "    return max_holder\n",
    "\n",
    "lenght_of_dic= min_max(cdc_month_births)\n",
    "print(lenght_of_dic)"
   ]
  },
  {
   "cell_type": "code",
   "execution_count": 25,
   "metadata": {
    "collapsed": false
   },
   "outputs": [
    {
     "name": "stdout",
     "output_type": "stream",
     "text": [
      "12374\n"
     ]
    }
   ],
   "source": [
    "#Not yet complete\n",
    "#function that extracts the same values across years and \n",
    "#calculates the differences between consecutive values to \n",
    "#show if number of births is increasing or decreasing\n",
    "def birth_change(data,column):\n",
    "    change_rate = {}\n",
    "    counter = 990\n",
    "    for elem in data:\n",
    "        birth = elem[4]\n",
    "        parameter = elem[column] \n",
    "        if counter < len(data):\n",
    "            if data[counter][column] == parameter:\n",
    "                data_1 = data[counter][4] \n",
    "                difference = data_1 - birth\n",
    "                counter += 1\n",
    "    return  data_1\n",
    "\n",
    "#Function that combines two overlapping datasets\n",
    "#Incomplete\n",
    "\n",
    "birtsh = birth_change(cdc_list,3)\n",
    "print(birtsh)"
   ]
  },
  {
   "cell_type": "code",
   "execution_count": null,
   "metadata": {
    "collapsed": true
   },
   "outputs": [],
   "source": []
  }
 ],
 "metadata": {
  "anaconda-cloud": {},
  "kernelspec": {
   "display_name": "Python 3",
   "language": "python",
   "name": "python3"
  },
  "language_info": {
   "codemirror_mode": {
    "name": "ipython",
    "version": 3
   },
   "file_extension": ".py",
   "mimetype": "text/x-python",
   "name": "python",
   "nbconvert_exporter": "python",
   "pygments_lexer": "ipython3",
   "version": "3.4.3"
  }
 },
 "nbformat": 4,
 "nbformat_minor": 1
}
