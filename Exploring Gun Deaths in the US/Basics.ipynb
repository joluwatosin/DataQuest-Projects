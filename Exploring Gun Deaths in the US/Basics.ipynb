{
 "cells": [
  {
   "cell_type": "markdown",
   "metadata": {},
   "source": [
    "## Project Details\n",
    "# Overview\n",
    "In this project I worked with Jupyter notebook, analyzing data on gun deaths in the US and the rate of gun deaths per 100,000 people of each race. The datasets I used comes from FiveThirtyEight and is stored as guns.csv and census.csv.\n",
    "It contains information on gun deaths in the US from 2012 to 2014. Each row in the dataset represents a single fatality. The columns contain demographic and other information about the victim.\n",
    "\n",
    "\n",
    "# Column Meaning(guns.csv)\n",
    "Each row contains information about the fatality, and the victim. Here's an explanation of each column:\n",
    "\n",
    "year -- the year in which the fatality occurred.\n",
    "\n",
    "month -- the month in which the fatality occurred.\n",
    "\n",
    "intent -- the intent of the perpetrator of the crime. This can be Suicide, Accidental, NA, Homicide, or Undetermined.\n",
    "\n",
    "police -- whether a police officer was involved with the shooting. Either 0 (false) or 1 (true).\n",
    "\n",
    "sex -- the gender of the victim. Either M or F.\n",
    "\n",
    "age -- the age of the victim.\n",
    "\n",
    "race -- the race of the victim. Either Asian/Pacific Islander, Native American/Native Alaskan, Black, Hispanic, or White.\n",
    "\n",
    "hispanic -- a code indicating the Hispanic origin of the victim.\n",
    "place -- where the shooting occurred. Has several categories, which you're encouraged to explore on your own.\n",
    "\n",
    "education -- educational status of the victim. Can be one of the following:\n",
    "\n",
    "1 -- Less than High School\n",
    "2 -- Graduated from High School or equivalent\n",
    "3 -- Some College\n",
    "4 -- At least graduated from College\n",
    "5 -- Not available\n",
    "\n",
    "\n",
    "# Column Meaning(census.csv)\n",
    "This just shows the total population and the breakdown of the population along racial lines\n",
    "\n",
    "\n",
    "# Questions Tackled\n",
    "\n",
    "1. Was there any chnage in gun deaths from 2012-2014?\n",
    "2. What is the difference in gun death rate between Genders?\n",
    "3. What is the difference in gun death rate among the different races?\n",
    "4. Gun death rates of different races per poplulation size\n",
    "5. Gun death rates of different Age groups\n",
    "6. Where do most gun deaths take place?\n",
    "7. Division of gun deaths by intent\n",
    "8. Is education a major identifying factor among gun deaths incidents \n",
    "\n",
    "Detailed recordings of findings are made."
   ]
  },
  {
   "cell_type": "markdown",
   "metadata": {},
   "source": [
    "# Reading in files"
   ]
  },
  {
   "cell_type": "code",
   "execution_count": 1,
   "metadata": {
    "collapsed": true
   },
   "outputs": [],
   "source": [
    "import csv\n",
    "b = open(\"guns.csv\",'r') \n",
    "datas = list(csv.reader(b))\n",
    "datas = datas[1:] #removes header\n"
   ]
  },
  {
   "cell_type": "markdown",
   "metadata": {},
   "source": [
    "## Yearly Gun deaths"
   ]
  },
  {
   "cell_type": "code",
   "execution_count": 2,
   "metadata": {
    "collapsed": false
   },
   "outputs": [
    {
     "data": {
      "text/plain": [
       "{'2012': 33563, '2013': 33636, '2014': 33599}"
      ]
     },
     "execution_count": 2,
     "metadata": {},
     "output_type": "execute_result"
    }
   ],
   "source": [
    "year_count = {}\n",
    "for elem in datas:\n",
    "    if elem[1] in year_count:\n",
    "        year_count[elem[1]] += 1\n",
    "    else:\n",
    "        year_count[elem[1]] = 1\n",
    "\n",
    "year_count #displays the number of gun deaths(2012 - 2014)"
   ]
  },
  {
   "cell_type": "markdown",
   "metadata": {},
   "source": [
    "## Findings so far\n",
    "The information shows very insignificant changes in deaths from 2012 to 2014"
   ]
  },
  {
   "cell_type": "markdown",
   "metadata": {},
   "source": [
    "##  Yearly Monthly Gun deaths"
   ]
  },
  {
   "cell_type": "code",
   "execution_count": 10,
   "metadata": {
    "collapsed": false,
    "scrolled": true
   },
   "outputs": [
    {
     "data": {
      "text/plain": [
       "{datetime.datetime(2012, 1, 1, 0, 0): 2758,\n",
       " datetime.datetime(2012, 2, 1, 0, 0): 2357,\n",
       " datetime.datetime(2012, 3, 1, 0, 0): 2743,\n",
       " datetime.datetime(2012, 4, 1, 0, 0): 2795,\n",
       " datetime.datetime(2012, 5, 1, 0, 0): 2999,\n",
       " datetime.datetime(2012, 6, 1, 0, 0): 2826,\n",
       " datetime.datetime(2012, 7, 1, 0, 0): 3026,\n",
       " datetime.datetime(2012, 8, 1, 0, 0): 2954,\n",
       " datetime.datetime(2012, 9, 1, 0, 0): 2852,\n",
       " datetime.datetime(2012, 10, 1, 0, 0): 2733,\n",
       " datetime.datetime(2012, 11, 1, 0, 0): 2729,\n",
       " datetime.datetime(2012, 12, 1, 0, 0): 2791,\n",
       " datetime.datetime(2013, 1, 1, 0, 0): 2864,\n",
       " datetime.datetime(2013, 2, 1, 0, 0): 2375,\n",
       " datetime.datetime(2013, 3, 1, 0, 0): 2862,\n",
       " datetime.datetime(2013, 4, 1, 0, 0): 2798,\n",
       " datetime.datetime(2013, 5, 1, 0, 0): 2806,\n",
       " datetime.datetime(2013, 6, 1, 0, 0): 2920,\n",
       " datetime.datetime(2013, 7, 1, 0, 0): 3079,\n",
       " datetime.datetime(2013, 8, 1, 0, 0): 2859,\n",
       " datetime.datetime(2013, 9, 1, 0, 0): 2742,\n",
       " datetime.datetime(2013, 10, 1, 0, 0): 2808,\n",
       " datetime.datetime(2013, 11, 1, 0, 0): 2758,\n",
       " datetime.datetime(2013, 12, 1, 0, 0): 2765,\n",
       " datetime.datetime(2014, 1, 1, 0, 0): 2651,\n",
       " datetime.datetime(2014, 2, 1, 0, 0): 2361,\n",
       " datetime.datetime(2014, 3, 1, 0, 0): 2684,\n",
       " datetime.datetime(2014, 4, 1, 0, 0): 2862,\n",
       " datetime.datetime(2014, 5, 1, 0, 0): 2864,\n",
       " datetime.datetime(2014, 6, 1, 0, 0): 2931,\n",
       " datetime.datetime(2014, 7, 1, 0, 0): 2884,\n",
       " datetime.datetime(2014, 8, 1, 0, 0): 2970,\n",
       " datetime.datetime(2014, 9, 1, 0, 0): 2914,\n",
       " datetime.datetime(2014, 10, 1, 0, 0): 2865,\n",
       " datetime.datetime(2014, 11, 1, 0, 0): 2756,\n",
       " datetime.datetime(2014, 12, 1, 0, 0): 2857}"
      ]
     },
     "execution_count": 10,
     "metadata": {},
     "output_type": "execute_result"
    }
   ],
   "source": [
    "import datetime\n",
    "date = [datetime.datetime(year = int(elem[1]), month = int(elem[2]), day =1) for elem in datas]\n",
    "month_counter = {}\n",
    "\n",
    "for elem in date:\n",
    "    if elem in month_counter:\n",
    "        month_counter[elem] += 1\n",
    "    else:\n",
    "        month_counter[elem] = 1\n",
    "        \n",
    "month_counter #Displays the gun deaths for every month of each year  "
   ]
  },
  {
   "cell_type": "markdown",
   "metadata": {},
   "source": [
    "## Gun deaths by Gender"
   ]
  },
  {
   "cell_type": "code",
   "execution_count": 17,
   "metadata": {
    "collapsed": false
   },
   "outputs": [
    {
     "data": {
      "text/plain": [
       "{'F': 14449, 'M': 86349}"
      ]
     },
     "execution_count": 17,
     "metadata": {},
     "output_type": "execute_result"
    }
   ],
   "source": [
    "sex_counter = {}\n",
    "for elem in datas:\n",
    "    if elem[5] in sex_counter:\n",
    "        sex_counter[elem[5]] += 1\n",
    "    else:\n",
    "        sex_counter[elem[5]] = 1\n",
    "        \n",
    "sex_counter #Breakdown of gun deaths by gender(Sex)"
   ]
  },
  {
   "cell_type": "markdown",
   "metadata": {},
   "source": [
    "## Findings so far\n",
    "This shows that within this 3 year space there was a higher chance of a gun death victim been male than female has there were higher gun death rate in males than in female."
   ]
  },
  {
   "cell_type": "markdown",
   "metadata": {},
   "source": [
    "## Gun deaths by Ethnic Group (Race) "
   ]
  },
  {
   "cell_type": "code",
   "execution_count": 33,
   "metadata": {
    "collapsed": false
   },
   "outputs": [
    {
     "data": {
      "text/plain": [
       "{'Asian/Pacific Islander': 1326,\n",
       " 'Black': 23296,\n",
       " 'Hispanic': 9022,\n",
       " 'Native American/Native Alaskan': 917,\n",
       " 'White': 66237}"
      ]
     },
     "execution_count": 33,
     "metadata": {},
     "output_type": "execute_result"
    }
   ],
   "source": [
    "ethnic_counter ={}\n",
    "\n",
    "for elem in datas:\n",
    "    if elem[7] in ethnic_counter:\n",
    "        ethnic_counter[elem[7]] += 1\n",
    "    else:\n",
    "        ethnic_counter[elem[7]] = 1\n",
    "        \n",
    "ethnic_counter #Breakdown of gun deaths by Race"
   ]
  },
  {
   "cell_type": "markdown",
   "metadata": {},
   "source": [
    "## Findings so far\n",
    "Looking at the raw figure without comparing it to the overall race divide, Whites have the highest gun death rate.\n",
    "This makes sense since America is a predominantly white country. \n",
    "Native Americans/Native Alaskans seem to have the lowest gun death rate."
   ]
  },
  {
   "cell_type": "markdown",
   "metadata": {},
   "source": [
    "## Rate of gun deaths per 100,000 people for each racial category"
   ]
  },
  {
   "cell_type": "code",
   "execution_count": 55,
   "metadata": {
    "collapsed": false
   },
   "outputs": [
    {
     "data": {
      "text/plain": [
       "{'Asian/Pacific Islander': 8.374309664161762,\n",
       " 'Black': 57.8773477735196,\n",
       " 'Hispanic': 20.220491210910907,\n",
       " 'Native American/Native Alaskan': 24.521955573811088,\n",
       " 'White': 33.56849303419181}"
      ]
     },
     "execution_count": 55,
     "metadata": {},
     "output_type": "execute_result"
    }
   ],
   "source": [
    "d = open('census.csv','r')\n",
    "census = list(csv.reader(d))\n",
    "census = census[1:]\n",
    "\n",
    "#This maps the population to the race\n",
    "mapping = {}\n",
    "mapping['White'] = int(census[0][10]) \n",
    "mapping['Black'] = int(census[0][12])\n",
    "mapping['Hispanic'] = int(census[0][11])\n",
    "mapping['Native American/Native Alaskan'] = int(census[0][13])\n",
    "mapping['Asian/Pacific Islander'] = int(census[0][14]) + int(census[0][15])\n",
    "\n",
    "\n",
    "#This calculates the death per 100,000 \n",
    "ethnic_per_hundredk = {}\n",
    "for key,elem in ethnic_counter.items():\n",
    "    if key not in ethnic_per_hundredk:\n",
    "        ethnic_per_hundredk[key] =(ethnic_counter[key]/mapping[key])*100000\n",
    "        \n",
    "#rate of gun deaths per 100000 people for each racial category\n",
    "ethnic_per_hundredk \n"
   ]
  },
  {
   "cell_type": "markdown",
   "metadata": {},
   "source": [
    "## Findings so far\n",
    "The data shows that Blacks have by far the highest ratio of gun deaths per 100,000 people among all the races in United States of America. This is really sad as this shows a very serious gun crisis within the Black community. \n",
    "On the other hand Asians and Pacific Islanders have a very low ratio. "
   ]
  },
  {
   "cell_type": "markdown",
   "metadata": {},
   "source": [
    "## Rates Of Gun Deaths Per Race: Filtered By Homocide"
   ]
  },
  {
   "cell_type": "code",
   "execution_count": 71,
   "metadata": {
    "collapsed": false
   },
   "outputs": [
    {
     "data": {
      "text/plain": [
       "{'Asian/Pacific Islander': 3.530346230970155,\n",
       " 'Black': 48.471284987180944,\n",
       " 'Hispanic': 12.627161104219914,\n",
       " 'Native American/Native Alaskan': 8.717729026240365,\n",
       " 'White': 4.6356417981453335}"
      ]
     },
     "execution_count": 71,
     "metadata": {},
     "output_type": "execute_result"
    }
   ],
   "source": [
    "intent =[elem[3] for elem in datas]\n",
    "race = [elem[7] for elem in datas]\n",
    "\n",
    "#Homocide\n",
    "homicide_race_counts ={}\n",
    "# Homicide gun deaths for each race\n",
    "for index,elem in enumerate(intent):\n",
    "    if elem == 'Homicide':\n",
    "        if race[index] in homicide_race_counts:\n",
    "                homicide_race_counts[race[index]] += 1\n",
    "        else:\n",
    "            homicide_race_counts[race[index]] = 1\n",
    "\n",
    "#Homicide gun deaths for each race            \n",
    "homicide_race_hundredk = {}\n",
    "for key,elem in homicide_race_counts.items():\n",
    "    if key not in homicide_race_hundredk:\n",
    "        homicide_race_hundredk[key] = (elem/mapping[key])*100000\n",
    "        \n",
    "homicide_race_hundredk"
   ]
  },
  {
   "cell_type": "markdown",
   "metadata": {},
   "source": [
    "## Rates Of Gun Deaths Per Race: Filtered By Suicide"
   ]
  },
  {
   "cell_type": "code",
   "execution_count": 70,
   "metadata": {
    "collapsed": false
   },
   "outputs": [
    {
     "data": {
      "text/plain": [
       "{'Asian/Pacific Islander': 4.705023152187416,\n",
       " 'Black': 8.278130270491385,\n",
       " 'Hispanic': 7.106980451097149,\n",
       " 'Native American/Native Alaskan': 14.841532544673013,\n",
       " 'White': 28.06217969245692}"
      ]
     },
     "execution_count": 70,
     "metadata": {},
     "output_type": "execute_result"
    }
   ],
   "source": [
    "#Suicide\n",
    "suicide_race_counts ={}\n",
    "\n",
    "# Suicide gun deaths for each race\n",
    "for index,elem in enumerate(intent):\n",
    "    if elem == 'Suicide':\n",
    "        if race[index] in suicide_race_counts:\n",
    "                suicide_race_counts[race[index]] += 1\n",
    "        else:\n",
    "            suicide_race_counts[race[index]] = 1\n",
    "\n",
    "#Suicide gun deaths for each race            \n",
    "suicide_race_hundredk = {}\n",
    "for key,elem in suicide_race_counts.items():\n",
    "    if key not in suicide_race_hundredk:\n",
    "        suicide_race_hundredk[key] = (elem/mapping[key])*100000\n",
    "suicide_race_hundredk"
   ]
  },
  {
   "cell_type": "markdown",
   "metadata": {},
   "source": [
    "## Rates Of Gun Deaths Per Race: Filtered By Accidental"
   ]
  },
  {
   "cell_type": "code",
   "execution_count": 72,
   "metadata": {
    "collapsed": false
   },
   "outputs": [
    {
     "data": {
      "text/plain": [
       "{'Asian/Pacific Islander': 0.07578560782046845,\n",
       " 'Black': 0.814893976206835,\n",
       " 'Hispanic': 0.3249801846133985,\n",
       " 'Native American/Native Alaskan': 0.5883130017708221,\n",
       " 'White': 0.5736904466492313}"
      ]
     },
     "execution_count": 72,
     "metadata": {},
     "output_type": "execute_result"
    }
   ],
   "source": [
    "#Accidental\n",
    "accident_race_counts ={}\n",
    "\n",
    "# Accidental gun deaths for each race\n",
    "for index,elem in enumerate(intent):\n",
    "    if elem == 'Accidental':\n",
    "        if race[index] in accident_race_counts:\n",
    "                accident_race_counts[race[index]] += 1\n",
    "        else:\n",
    "            accident_race_counts[race[index]] = 1\n",
    "\n",
    "#Accidental gun deaths for each race            \n",
    "accident_race_hundredk = {}\n",
    "for key,elem in accident_race_counts.items():\n",
    "    if key not in accident_race_hundredk:\n",
    "        accident_race_hundredk[key] = (elem/mapping[key])*100000\n",
    "\n",
    "accident_race_hundredk"
   ]
  },
  {
   "cell_type": "markdown",
   "metadata": {},
   "source": [
    "## Rates Of Gun Deaths Per Race: Filtered By Undetermined"
   ]
  },
  {
   "cell_type": "code",
   "execution_count": 73,
   "metadata": {
    "collapsed": false
   },
   "outputs": [
    {
     "data": {
      "text/plain": [
       "{'Asian/Pacific Islander': 0.0631546731837237,\n",
       " 'Black': 0.3130385396404305,\n",
       " 'Hispanic': 0.16136947098044616,\n",
       " 'Native American/Native Alaskan': 0.3743810011268868,\n",
       " 'White': 0.2964743032595409}"
      ]
     },
     "execution_count": 73,
     "metadata": {},
     "output_type": "execute_result"
    }
   ],
   "source": [
    "#Undetermined\n",
    "undetermined_race_counts ={}\n",
    "\n",
    "# Undetermined gun deaths for each race\n",
    "for index,elem in enumerate(intent):\n",
    "    if elem == 'Undetermined':\n",
    "        if race[index] in undetermined_race_counts:\n",
    "                undetermined_race_counts[race[index]] += 1\n",
    "        else:\n",
    "            undetermined_race_counts[race[index]] = 1\n",
    "\n",
    "#Undetermined gun deaths for each race            \n",
    "undetermined_race_hundredk = {}\n",
    "for key,elem in undetermined_race_counts.items():\n",
    "    if key not in undetermined_race_hundredk:\n",
    "        undetermined_race_hundredk[key] = (elem/mapping[key])*100000\n",
    "\n",
    "undetermined_race_hundredk"
   ]
  },
  {
   "cell_type": "markdown",
   "metadata": {},
   "source": [
    "## Findings so far\n",
    "1. This shows that there is a serious issue with homcides among the black community has they have the highest rate of gun deaths by homocide. \n",
    "\n",
    "2. There is a serious Suicide problem among the White and Native American community but more prevalent in the White community. This should be studied so has to understand what is causing this and how to reduce it."
   ]
  },
  {
   "cell_type": "markdown",
   "metadata": {},
   "source": [
    "## Rates Of Gun Deaths: Filtered By Age"
   ]
  },
  {
   "cell_type": "code",
   "execution_count": 81,
   "metadata": {
    "collapsed": false
   },
   "outputs": [
    {
     "data": {
      "text/plain": [
       "{'Adult': 41362,\n",
       " 'Child': 705,\n",
       " 'Old Person': 37136,\n",
       " 'Teen': 3203,\n",
       " 'Young Adult': 18392}"
      ]
     },
     "execution_count": 81,
     "metadata": {},
     "output_type": "execute_result"
    }
   ],
   "source": [
    "age =[]\n",
    "for elem in datas:\n",
    "    if elem[6] == '':\n",
    "        elem[6] = 0\n",
    "    if elem[6] == 'NA':\n",
    "        elem[6] = 0\n",
    "    age.append(int(elem[6]))\n",
    "race = [elem[7] for elem in datas]\n",
    "\n",
    "age_counts ={'Child':0,\n",
    "             'Teen':0,\n",
    "             'Young Adult':0,\n",
    "             'Adult':0,\n",
    "             'Old Person':0}\n",
    "\n",
    "# Gun deaths by Age\n",
    "for index,elem in enumerate(age):\n",
    "    if elem <= 12:\n",
    "        age_counts['Child'] += 1\n",
    "    elif (elem > 12) and (elem <= 17):\n",
    "        age_counts['Teen'] += 1\n",
    "    elif (elem > 17) and (elem <= 25):\n",
    "        age_counts['Young Adult'] += 1\n",
    "    elif (elem > 25) and (elem <= 50):\n",
    "        age_counts['Adult'] += 1\n",
    "    elif (elem > 50):\n",
    "        age_counts['Old Person'] += 1\n",
    "\n",
    "age_counts"
   ]
  },
  {
   "cell_type": "markdown",
   "metadata": {},
   "source": [
    "## Findings so far\n",
    "\n",
    "Classified into 5 sections:\n",
    "\n",
    "1. 'Child': 0-12\n",
    "\n",
    "2. 'Teen': 13-17\n",
    "\n",
    "3. 'Young Adult': 18-25\n",
    "\n",
    "4. 'Adult':26-50\n",
    "\n",
    "5. 'Old Person': Above 50\n",
    "\n",
    "The data shows that Adults are the most affected by gun related deaths closely followed by Old People. While children rightly have the lowest gun death rate. "
   ]
  },
  {
   "cell_type": "markdown",
   "metadata": {},
   "source": [
    "## Rates Of Gun Deaths: Filtered By Incident Location "
   ]
  },
  {
   "cell_type": "code",
   "execution_count": 82,
   "metadata": {
    "collapsed": false
   },
   "outputs": [
    {
     "data": {
      "text/plain": [
       "{'Farm': 470,\n",
       " 'Home': 60486,\n",
       " 'Industrial/construction': 248,\n",
       " 'NA': 1384,\n",
       " 'Other specified': 13751,\n",
       " 'Other unspecified': 8867,\n",
       " 'Residential institution': 203,\n",
       " 'School/instiution': 671,\n",
       " 'Sports': 128,\n",
       " 'Street': 11151,\n",
       " 'Trade/service area': 3439}"
      ]
     },
     "execution_count": 82,
     "metadata": {},
     "output_type": "execute_result"
    }
   ],
   "source": [
    "location =[elem[9] for elem in datas]\n",
    "location_counts ={}\n",
    "\n",
    "for elem in location:\n",
    "    if elem in location_counts:\n",
    "        location_counts[elem] += 1\n",
    "    else:\n",
    "        location_counts[elem] = 1\n",
    "            \n",
    "location_counts"
   ]
  },
  {
   "cell_type": "markdown",
   "metadata": {},
   "source": [
    "## Findings So Far\n",
    "* Most gun related deaths happens at home with the Streets been the next common location for gun related deaths,while very few gun deaths occur during Sports.\n",
    "\n",
    "N.B: This is out of the given locations"
   ]
  },
  {
   "cell_type": "markdown",
   "metadata": {},
   "source": [
    "## Rates Of Gun Deaths: Filtered By Education Level"
   ]
  },
  {
   "cell_type": "code",
   "execution_count": 90,
   "metadata": {
    "collapsed": false
   },
   "outputs": [
    {
     "data": {
      "text/plain": [
       "{'1': 21823, '2': 42927, '3': 21680, '4': 12946, '5': 1369, 'NA': 53}"
      ]
     },
     "execution_count": 90,
     "metadata": {},
     "output_type": "execute_result"
    }
   ],
   "source": [
    "edu =[elem[10] for elem in datas]\n",
    "\n",
    "edu_counts ={}\n",
    "\n",
    "for elem in edu:\n",
    "    if elem in edu_counts:\n",
    "        edu_counts[elem] += 1\n",
    "    else:\n",
    "        edu_counts[elem] = 1\n",
    "            \n",
    "edu_counts"
   ]
  },
  {
   "cell_type": "markdown",
   "metadata": {},
   "source": [
    "## Findings So Far\n",
    "\n",
    "Classified into 5 sections:\n",
    "    \n",
    "1. Less than High School\n",
    "2. Graduated from High School or equivalent\n",
    "3. Some College\n",
    "4. At least graduated from College\n",
    "5. Not available\n",
    "\n",
    "Most of those killed in gun related events have maximum of high School diploma. The link between education and gun deaths should be better studied to undersatnd why this is happening."
   ]
  },
  {
   "cell_type": "code",
   "execution_count": null,
   "metadata": {
    "collapsed": true
   },
   "outputs": [],
   "source": []
  }
 ],
 "metadata": {
  "kernelspec": {
   "display_name": "Python 3",
   "language": "python",
   "name": "python3"
  },
  "language_info": {
   "codemirror_mode": {
    "name": "ipython",
    "version": 3
   },
   "file_extension": ".py",
   "mimetype": "text/x-python",
   "name": "python",
   "nbconvert_exporter": "python",
   "pygments_lexer": "ipython3",
   "version": "3.4.3"
  }
 },
 "nbformat": 4,
 "nbformat_minor": 0
}
